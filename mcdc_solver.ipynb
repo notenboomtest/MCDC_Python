{
 "cells": [
  {
   "cell_type": "markdown",
   "metadata": {},
   "source": [
    "# MCDC solver"
   ]
  },
  {
   "cell_type": "code",
   "execution_count": 2,
   "metadata": {
    "collapsed": false
   },
   "outputs": [],
   "source": [
    "class Condition:\n",
    "    def __init__(self):\n",
    "        self.name = ''\n",
    "        self.precop = ''\n",
    "        self.trailop = ''"
   ]
  },
  {
   "cell_type": "code",
   "execution_count": 3,
   "metadata": {
    "collapsed": true
   },
   "outputs": [],
   "source": [
    "class Testcase:\n",
    "    def __init__(self):\n",
    "        self.seq = ''\n",
    "        self.res = ''"
   ]
  },
  {
   "cell_type": "code",
   "execution_count": 4,
   "metadata": {
    "collapsed": true
   },
   "outputs": [],
   "source": [
    "class Decision:\n",
    "    def __init__(self):\n",
    "        self.conditions = list()\n",
    "        self.testcases = list()\n",
    "        \n",
    "    def extract(self, raw):\n",
    "        elem = list(raw)\n",
    "        size = len(raw)\n",
    "        i = 0\n",
    "        while i < size:\n",
    "            temp = Condition()\n",
    "            temp.name = elem[i]\n",
    "            if i == 0:\n",
    "                temp.precop = '-'\n",
    "            else:\n",
    "                temp.precop = elem[i-1]\n",
    "            if (i+1) == size:\n",
    "                temp.trailop = '-'\n",
    "            else:\n",
    "                temp.trailop = elem[i+1]\n",
    "            self.conditions.append(temp)\n",
    "            i += 2\n",
    "    \n",
    "    def derivation(self):\n",
    "        trueTestcases = list()\n",
    "        falseTestcases = list()\n",
    "        testcase = list()\n",
    "        length = len(self.conditions)\n",
    "        for i in range(0, len(self.conditions)):\n",
    "            for x in range(0, length - (length - i)):\n",
    "                if self.conditions[x].trailop == \"&\":\n",
    "                    testcase.append(\"1\")\n",
    "                else:\n",
    "                    testcase.append(\"0\")\n",
    "            testcase.append(\"1\")\n",
    "            for x in range(i+1, length):\n",
    "                if self.conditions[x].precop == \"&\":\n",
    "                    testcase.append(\"1\")\n",
    "                else:\n",
    "                    testcase.append(\"0\")\n",
    "            trueTestcases.append(Testcase())\n",
    "            trueTestcases[i].seq = ''.join(testcase)\n",
    "            trueTestcases[i].res = \"True\"\n",
    "            testcase[i]=(\"0\")\n",
    "            falseTestcases.append(Testcase())\n",
    "            falseTestcases[i].seq = ''.join(testcase)\n",
    "            falseTestcases[i].res= \"False\"\n",
    "            testcase.clear()\n",
    "        self.testcases = trueTestcases + falseTestcases\n",
    "    \n",
    "    def reduce(self):\n",
    "        li = list()\n",
    "        temp = list()\n",
    "        for testcase in self.testcases:\n",
    "            if testcase.seq not in li:\n",
    "                li.append(testcase.seq)\n",
    "                temp.append(testcase)\n",
    "        self.testcases.clear()\n",
    "        self.testcases = temp\n",
    "        \n",
    "    def print_testcases(self):\n",
    "        i = 1\n",
    "        for x in self.testcases:\n",
    "            print('Testcase ' + str(i) + ': ' + x.seq + '   ' + x.res)\n",
    "            i += 1"
   ]
  },
  {
   "cell_type": "code",
   "execution_count": 5,
   "metadata": {
    "collapsed": false
   },
   "outputs": [
    {
     "name": "stdout",
     "output_type": "stream",
     "text": [
      "Testcase 1: 11010001110   True\n",
      "Testcase 2: 10110001110   True\n",
      "Testcase 3: 10101001110   True\n",
      "Testcase 4: 10100101110   True\n",
      "Testcase 5: 10100011110   True\n",
      "Testcase 6: 10100011101   True\n",
      "Testcase 7: 01010001110   False\n",
      "Testcase 8: 10010001110   False\n",
      "Testcase 9: 10100001110   False\n",
      "Testcase 10: 10100010110   False\n",
      "Testcase 11: 10100011010   False\n",
      "Testcase 12: 10100011100   False\n"
     ]
    }
   ],
   "source": [
    "s1 = 'A&B|C&D|C|E|F&G&H&I|J'\n",
    "\n",
    "decision = Decision()\n",
    "decision.extract(s1)\n",
    "decision.derivation()\n",
    "decision.reduce()\n",
    "decision.print_testcases()"
   ]
  },
  {
   "cell_type": "code",
   "execution_count": null,
   "metadata": {
    "collapsed": true
   },
   "outputs": [],
   "source": []
  }
 ],
 "metadata": {
  "kernelspec": {
   "display_name": "Python 3",
   "language": "python",
   "name": "python3"
  },
  "language_info": {
   "codemirror_mode": {
    "name": "ipython",
    "version": 3
   },
   "file_extension": ".py",
   "mimetype": "text/x-python",
   "name": "python",
   "nbconvert_exporter": "python",
   "pygments_lexer": "ipython3",
   "version": "3.5.1"
  }
 },
 "nbformat": 4,
 "nbformat_minor": 0
}
