{
 "cells": [
  {
   "cell_type": "markdown",
   "metadata": {},
   "source": [
    "# MCDC solver\n",
    "## Purpose\n",
    "Given a certain decision give the necessary test cases to fulfill the MCDC rule.\n",
    "The solver supports only the booleans AND and OR. The Negation boolean can be ignored for solving purposses and can taken in account later on when the result is translated into the conditions. The solution for this particular decision should then be negated.\n",
    "Exclusive ORs, between and the use of a variable more than one time in the same decision is not supported.\n",
    "\n",
    "## Instruction\n",
    "Run all the cells in the notebook with exception of the last one. The last cell offers the possibility to define the decision.\n",
    "The conditions of the decision are replaced with a different letter for each condition.\n",
    "The format of the decision is: starting with a letter followed by (if necessary) a boolean (& for AND, | for OR) and another letter."
   ]
  },
  {
   "cell_type": "code",
   "execution_count": 2,
   "metadata": {
    "collapsed": true
   },
   "outputs": [],
   "source": [
    "import re\n",
    "import sys"
   ]
  },
  {
   "cell_type": "markdown",
   "metadata": {},
   "source": [
    "## Condition\n",
    "The condition contains it's name and the preceding and following boolean."
   ]
  },
  {
   "cell_type": "code",
   "execution_count": 3,
   "metadata": {
    "collapsed": false
   },
   "outputs": [],
   "source": [
    "class Condition:\n",
    "    def __init__(self):\n",
    "        self.name = ''\n",
    "        self.precop = ''\n",
    "        self.trailop = ''"
   ]
  },
  {
   "cell_type": "markdown",
   "metadata": {},
   "source": [
    "## Testcase\n",
    "Testcase describes the value of the conditions as a sequence of bits. Where 1 stands for true and 0 stands for false.\n",
    "The outcome of the decision given the values of the different conditions is also stored as res."
   ]
  },
  {
   "cell_type": "code",
   "execution_count": 4,
   "metadata": {
    "collapsed": true
   },
   "outputs": [],
   "source": [
    "class Testcase:\n",
    "    def __init__(self, seq, res):\n",
    "        self.seq = seq\n",
    "        self.res = res"
   ]
  },
  {
   "cell_type": "markdown",
   "metadata": {},
   "source": [
    "## Decision\n",
    "The following object contains the functionality:\n",
    "- to extract the different conditions and their boolean connectors from the given string. \n",
    "- to derive the test cases\n",
    "- and get rid of the double sequences\n",
    "- to present the test cases"
   ]
  },
  {
   "cell_type": "code",
   "execution_count": 5,
   "metadata": {
    "collapsed": true
   },
   "outputs": [],
   "source": [
    "class Decision:\n",
    "    def __init__(self):\n",
    "        self.conditions = list()\n",
    "        self.testcases = list()\n",
    "        \n",
    "    def extract(self, raw):\n",
    "        elem = list(raw)\n",
    "        size = len(raw)\n",
    "        i = 0\n",
    "        while i < size:\n",
    "            temp = Condition()\n",
    "            temp.name = elem[i]\n",
    "            if i == 0:\n",
    "                temp.precop = '-'\n",
    "            else:\n",
    "                temp.precop = elem[i-1]\n",
    "            if (i+1) == size:\n",
    "                temp.trailop = '-'\n",
    "            else:\n",
    "                temp.trailop = elem[i+1]\n",
    "            self.conditions.append(temp)\n",
    "            i += 2\n",
    "    \n",
    "    def derivation(self):\n",
    "        testcase = list()\n",
    "        length = len(self.conditions)\n",
    "        self.testcases = [None] * 2 * length\n",
    "        for i in range(0, length):\n",
    "            for x in range(0, length - (length - i)):\n",
    "                if self.conditions[x].trailop == \"&\":\n",
    "                    testcase.append(\"1\")\n",
    "                else:\n",
    "                    testcase.append(\"0\")\n",
    "            testcase.append(\"1\")\n",
    "            for x in range(i+1, length):\n",
    "                if self.conditions[x].precop == \"&\":\n",
    "                    testcase.append(\"1\")\n",
    "                else:\n",
    "                    testcase.append(\"0\")\n",
    "            self.testcases[i] = Testcase(''.join(testcase), \"True\")\n",
    "            testcase[i]=(\"0\")\n",
    "            self.testcases[i + length] = Testcase(''.join(testcase), \"False\")\n",
    "            testcase.clear()\n",
    "    \n",
    "    def reduce(self):\n",
    "        li = list()\n",
    "        temp = list()\n",
    "        for testcase in self.testcases:\n",
    "            if testcase.seq not in li:\n",
    "                li.append(testcase.seq)\n",
    "                temp.append(testcase)\n",
    "        self.testcases.clear()\n",
    "        self.testcases = temp\n",
    "        \n",
    "    def print_testcases(self):\n",
    "        i = 1\n",
    "        for x in self.testcases:\n",
    "            print('Testcase ' + str(i) + ': ' + x.seq + '   ' + x.res)\n",
    "            i += 1"
   ]
  },
  {
   "cell_type": "markdown",
   "metadata": {},
   "source": [
    "### Custom made exception class"
   ]
  },
  {
   "cell_type": "code",
   "execution_count": 6,
   "metadata": {
    "collapsed": false
   },
   "outputs": [],
   "source": [
    "class DecisionError(Exception):\n",
    "    def __init__(self, value):\n",
    "        self.value = value\n",
    "    def __str__(self):\n",
    "        return repr(self.value)"
   ]
  },
  {
   "cell_type": "markdown",
   "metadata": {},
   "source": [
    "## Solver\n",
    "The solver checks whether the decision has the right layout and the letters are only used once."
   ]
  },
  {
   "cell_type": "code",
   "execution_count": 10,
   "metadata": {
    "collapsed": false
   },
   "outputs": [],
   "source": [
    "def solve_decision(sequence, fileName=None):\n",
    "    try:\n",
    "        if re.match(r\"^[A-Za-z]{1}((\\||\\&)[A-Za-z])*$\", sequence) == None: \n",
    "            raise DecisionError('Wrong layout')\n",
    "        seq_split = re.split(\"\\||\\&\", sequence)\n",
    "        if len(seq_split) != len(set(seq_split)):\n",
    "            raise DecisionError('Duplicate letters')\n",
    "        \n",
    "    except DecisionError as e:\n",
    "        if e.value == 'Wrong layout':\n",
    "            print('Decision has to start with a letter and can be followed by combinations of a \"|\" or \"&\" and letter. Got: ', sequence)\n",
    "        else:\n",
    "            print('A letter can only be used once within a decision')\n",
    "        raise\n",
    "    if fileName:\n",
    "        print(\"File saved as: \")\n",
    "    decision = Decision()\n",
    "    decision.extract(sequence)\n",
    "    decision.derivation()\n",
    "    decision.reduce()\n",
    "    decision.print_testcases()\n",
    "    "
   ]
  },
  {
   "cell_type": "markdown",
   "metadata": {},
   "source": [
    "## Please give your input here and run the code\n",
    "To save the result in a text file, give the filename as second value to the function solve_decision. The results are saved using the file name and a timestamp."
   ]
  },
  {
   "cell_type": "code",
   "execution_count": 12,
   "metadata": {
    "collapsed": false
   },
   "outputs": [
    {
     "name": "stdout",
     "output_type": "stream",
     "text": [
      "Testcase 1: 1   True\n",
      "Testcase 2: 0   False\n"
     ]
    }
   ],
   "source": [
    "# Give here the decision you want to analyse\n",
    "# The decision should contain at least one variable represented by a letter.\n",
    "# The decision can contain a letter only onces\n",
    "# The first letter can be followed by a combination of '|' or '&' and a letter.\n",
    "# Example: 'A&B|C'\n",
    "\n",
    "decision = 'A'\n",
    "\n",
    "solve_decision(decision)\n",
    "#solve_decision(decision, \"result\")"
   ]
  },
  {
   "cell_type": "code",
   "execution_count": null,
   "metadata": {
    "collapsed": true
   },
   "outputs": [],
   "source": []
  }
 ],
 "metadata": {
  "celltoolbar": "Raw Cell Format",
  "kernelspec": {
   "display_name": "Python 3",
   "language": "python",
   "name": "python3"
  },
  "language_info": {
   "codemirror_mode": {
    "name": "ipython",
    "version": 3
   },
   "file_extension": ".py",
   "mimetype": "text/x-python",
   "name": "python",
   "nbconvert_exporter": "python",
   "pygments_lexer": "ipython3",
   "version": "3.5.1"
  }
 },
 "nbformat": 4,
 "nbformat_minor": 0
}
