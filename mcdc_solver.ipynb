{
 "cells": [
  {
   "cell_type": "markdown",
   "metadata": {},
   "source": [
    "# MCDC solver"
   ]
  },
  {
   "cell_type": "code",
   "execution_count": null,
   "metadata": {
    "collapsed": true
   },
   "outputs": [],
   "source": [
    "import re\n",
    "import sys"
   ]
  },
  {
   "cell_type": "code",
   "execution_count": null,
   "metadata": {
    "collapsed": false
   },
   "outputs": [],
   "source": [
    "class Condition:\n",
    "    def __init__(self):\n",
    "        self.name = ''\n",
    "        self.precop = ''\n",
    "        self.trailop = ''"
   ]
  },
  {
   "cell_type": "code",
   "execution_count": null,
   "metadata": {
    "collapsed": true
   },
   "outputs": [],
   "source": [
    "class Testcase:\n",
    "    def __init__(self, seq, res):\n",
    "        self.seq = seq\n",
    "        self.res = res"
   ]
  },
  {
   "cell_type": "code",
   "execution_count": null,
   "metadata": {
    "collapsed": true
   },
   "outputs": [],
   "source": [
    "class Decision:\n",
    "    def __init__(self):\n",
    "        self.conditions = list()\n",
    "        self.testcases = list()\n",
    "        \n",
    "    def extract(self, raw):\n",
    "        elem = list(raw)\n",
    "        size = len(raw)\n",
    "        i = 0\n",
    "        while i < size:\n",
    "            temp = Condition()\n",
    "            temp.name = elem[i]\n",
    "            if i == 0:\n",
    "                temp.precop = '-'\n",
    "            else:\n",
    "                temp.precop = elem[i-1]\n",
    "            if (i+1) == size:\n",
    "                temp.trailop = '-'\n",
    "            else:\n",
    "                temp.trailop = elem[i+1]\n",
    "            self.conditions.append(temp)\n",
    "            i += 2\n",
    "    \n",
    "    def derivation(self):\n",
    "        testcase = list()\n",
    "        length = len(self.conditions)\n",
    "        self.testcases = [None] * 2 * length\n",
    "        for i in range(0, length):\n",
    "            for x in range(0, length - (length - i)):\n",
    "                if self.conditions[x].trailop == \"&\":\n",
    "                    testcase.append(\"1\")\n",
    "                else:\n",
    "                    testcase.append(\"0\")\n",
    "            testcase.append(\"1\")\n",
    "            for x in range(i+1, length):\n",
    "                if self.conditions[x].precop == \"&\":\n",
    "                    testcase.append(\"1\")\n",
    "                else:\n",
    "                    testcase.append(\"0\")\n",
    "            self.testcases[i] = Testcase(''.join(testcase), \"True\")\n",
    "            testcase[i]=(\"0\")\n",
    "            self.testcases[i + length] = Testcase(''.join(testcase), \"False\")\n",
    "            testcase.clear()\n",
    "    \n",
    "    def reduce(self):\n",
    "        li = list()\n",
    "        temp = list()\n",
    "        for testcase in self.testcases:\n",
    "            if testcase.seq not in li:\n",
    "                li.append(testcase.seq)\n",
    "                temp.append(testcase)\n",
    "        self.testcases.clear()\n",
    "        self.testcases = temp\n",
    "        \n",
    "    def print_testcases(self):\n",
    "        i = 1\n",
    "        for x in self.testcases:\n",
    "            print('Testcase ' + str(i) + ': ' + x.seq + '   ' + x.res)\n",
    "            i += 1"
   ]
  },
  {
   "cell_type": "code",
   "execution_count": null,
   "metadata": {
    "collapsed": false
   },
   "outputs": [],
   "source": [
    "class DecisionError(Exception):\n",
    "    def __init__(self, value):\n",
    "        self.value = value\n",
    "    def __str__(self):\n",
    "        return repr(self.value)"
   ]
  },
  {
   "cell_type": "code",
   "execution_count": null,
   "metadata": {
    "collapsed": false
   },
   "outputs": [],
   "source": [
    "def solve_decision(sequence):\n",
    "    try:\n",
    "        if re.match(r\"^[A-Za-z]{1}((\\||\\&)[A-Za-z])*$\", sequence) == None: \n",
    "            raise DecisionError('Wrong layout')\n",
    "        seq_split = re.split(\"\\||\\&\", sequence)\n",
    "        if len(seq_split) != len(set(seq_split)):\n",
    "            raise DecisionError('Duplicate letters')\n",
    "        \n",
    "    except DecisionError as e:\n",
    "        if e.value == 'Wrong layout':\n",
    "            print('Decision has to start with a letter and can be followed by combinations of a \"|\" or \"&\" and letter. Got: ', sequence)\n",
    "        else:\n",
    "            print('A letter can only be used once within a decision')\n",
    "        raise\n",
    "    decision = Decision()\n",
    "    decision.extract(sequence)\n",
    "    decision.derivation()\n",
    "    decision.reduce()\n",
    "    decision.print_testcases()\n"
   ]
  },
  {
   "cell_type": "code",
   "execution_count": null,
   "metadata": {
    "collapsed": false
   },
   "outputs": [],
   "source": [
    "# Give here the decision you want to analyse\n",
    "# The decision should contain at least one variable represented by a letter.\n",
    "# The decision can contain a letter only onces\n",
    "# The first letter can be followed by a combination of '|' or '&' and a letter.\n",
    "# Example: 'A&B|C'\n",
    "\n",
    "decision = ''\n",
    "\n",
    "solve_decision(decision)"
   ]
  }
 ],
 "metadata": {
  "kernelspec": {
   "display_name": "Python 3",
   "language": "python",
   "name": "python3"
  },
  "language_info": {
   "codemirror_mode": {
    "name": "ipython",
    "version": 3
   },
   "file_extension": ".py",
   "mimetype": "text/x-python",
   "name": "python",
   "nbconvert_exporter": "python",
   "pygments_lexer": "ipython3",
   "version": "3.5.1"
  }
 },
 "nbformat": 4,
 "nbformat_minor": 0
}
